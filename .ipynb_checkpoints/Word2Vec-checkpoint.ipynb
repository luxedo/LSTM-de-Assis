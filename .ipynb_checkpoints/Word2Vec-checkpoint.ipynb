{
 "cells": [
  {
   "cell_type": "markdown",
   "metadata": {},
   "source": [
    "# Word2Vec\n",
    "## com Machado de Assis"
   ]
  },
  {
   "cell_type": "code",
   "execution_count": 25,
   "metadata": {},
   "outputs": [],
   "source": [
    "import collections\n",
    "\n",
    "import numpy as np\n",
    "import pandas as pd\n",
    "import scipy\n",
    "import tensorflow as tf\n",
    "\n",
    "CAMINHO_MODELO = \"modelo.json\"\n",
    "CAMINHO_DICIONARIO = \"dicionario.json\"\n",
    "CAMINHO_DICIONARIO_INDICES = \"dicionario_indices.json\"\n",
    "EMBEDDINGS = 100"
   ]
  },
  {
   "cell_type": "code",
   "execution_count": 82,
   "metadata": {},
   "outputs": [],
   "source": [
    "def criar_dicionario(palavras, minimo_palavras):\n",
    "    palavras_dicionario = [palavra for (palavra, qtd) in collections.Counter(palavras).items() if qtd >= minimo_palavras]\n",
    "    dicionario = {palavra: indice for (indice, palavra) in enumerate(palavras_dicionario)}\n",
    "    unk_indice = len(dicionario)\n",
    "    dicionario[\"UNK\"] = unk_indice\n",
    "    dicionario_indices = dict(zip(dicionario.values(), dicionario.keys()))\n",
    "    return dicionario, dicionario_indices\n",
    "\n",
    "\n",
    "def criar_dataset(palavras, janela, minimo_palavras=5):\n",
    "    \"\"\"\n",
    "    Recebe uma lista de palavras, o tamanho de uma janela para criar pares\n",
    "    (palavra, vizinho) de acordo com o tamanho da janela.\n",
    "\n",
    "    Retorna uma tupla (lista de palavras, lista de vizinhos)\n",
    "    \"\"\"\n",
    "    dicionario, dicionario_indices = criar_dicionario(palavras, minimo_palavras)\n",
    "    unk_indice = dicionario[\"UNK\"]\n",
    "    negativas = 1\n",
    "    dataset = []\n",
    "    for i in range(janela, len(palavras)-janela):\n",
    "        for j in range(1, janela+1):\n",
    "            dataset.append((\n",
    "                dicionario.get(palavras[i], unk_indice),\n",
    "                dicionario.get(palavras[i+j], unk_indice),\n",
    "                1))\n",
    "            dataset.append((\n",
    "                dicionario.get(palavras[i], unk_indice),\n",
    "                dicionario.get(palavras[i-j], unk_indice),\n",
    "                1))\n",
    "            for _ in range(2*negativas):\n",
    "                dataset.append((\n",
    "                    np.random.randint(0, len(dicionario)),\n",
    "                    np.random.randint(0, len(dicionario)),\n",
    "                    0))\n",
    "    contexto, alvo, etiquetas = zip(*dataset)\n",
    "#     contexto, alvo, etiquetas = one_hot(contexto), one_hot(alvo), etiquetas\n",
    "    return contexto, alvo, etiquetas, dicionario, dicionario_indices\n",
    "\n",
    "\n",
    "def one_hot(X, tamanho=None):\n",
    "    if not tamanho:\n",
    "        tamanho = np.max(X)+1\n",
    "    ox = np.zeros((len(X), tamanho), dtype=np.uint16)\n",
    "    ox[np.arange(len(X)), X] = 1\n",
    "    return ox"
   ]
  },
  {
   "cell_type": "code",
   "execution_count": 83,
   "metadata": {},
   "outputs": [],
   "source": [
    "df_obras = pd.read_csv(\"obras_machado_de_assis.csv\")\n",
    "sr_texto = df_obras[\"texto\"][:20].str.lower().str.replace(\"[^\\w\\s\\d]\", \"\").str.replace(\"\\n{2,}\", \"\\n\").apply(lambda row: row.split())\n",
    "palavras = np.concatenate(sr_texto.values)\n",
    "\n",
    "janela = 3\n",
    "minimo_palavras = 10\n",
    "# dicionario, dicionario_indices = criar_dicionario(palavras, minimo_palavras)\n",
    "contexto, alvo, etiquetas, dicionario, dicionario_indices = criar_dataset(palavras, janela, minimo_palavras)"
   ]
  },
  {
   "cell_type": "code",
   "execution_count": 81,
   "metadata": {},
   "outputs": [
    {
     "name": "stdout",
     "output_type": "stream",
     "text": [
      "__________________________________________________________________________________________________\n",
      "Layer (type)                    Output Shape         Param #     Connected to                     \n",
      "==================================================================================================\n",
      "entrada_alvo (InputLayer)       (None, 1)            0                                            \n",
      "__________________________________________________________________________________________________\n",
      "entrada_contexto (InputLayer)   (None, 1)            0                                            \n",
      "__________________________________________________________________________________________________\n",
      "embedding (Embedding)           (None, 1, 100)       100000      entrada_alvo[0][0]               \n",
      "                                                                 entrada_contexto[0][0]           \n",
      "__________________________________________________________________________________________________\n",
      "reshape_55 (Reshape)            (None, 100, 1)       0           embedding[0][0]                  \n",
      "__________________________________________________________________________________________________\n",
      "reshape_56 (Reshape)            (None, 100, 1)       0           embedding[1][0]                  \n",
      "__________________________________________________________________________________________________\n",
      "dot_37 (Dot)                    (None, 1, 1)         0           reshape_55[0][0]                 \n",
      "                                                                 reshape_56[0][0]                 \n",
      "__________________________________________________________________________________________________\n",
      "reshape_58 (Reshape)            (None, 1)            0           dot_37[0][0]                     \n",
      "__________________________________________________________________________________________________\n",
      "dense_7 (Dense)                 (None, 1)            2           reshape_58[0][0]                 \n",
      "==================================================================================================\n",
      "Total params: 100,002\n",
      "Trainable params: 100,002\n",
      "Non-trainable params: 0\n",
      "__________________________________________________________________________________________________\n"
     ]
    }
   ],
   "source": [
    "def criar_modelo(dim_entrada, dim_embedding):\n",
    "    entrada_alvo = tf.keras.layers.Input((1,), name=\"entrada_alvo\")\n",
    "    entrada_contexto = tf.keras.layers.Input((1,), name=\"entrada_contexto\")\n",
    "    embedding = tf.keras.layers.Embedding(dim_entrada, dim_embedding, name='embedding')\n",
    "    camada_alvo = embedding(entrada_alvo)\n",
    "    camada_alvo = tf.keras.layers.Reshape((dim_embedding,1))(camada_alvo)\n",
    "    camada_contexto = embedding(entrada_contexto)\n",
    "    camada_contexto = tf.keras.layers.Reshape((dim_embedding,1))(camada_contexto)\n",
    "\n",
    "    similaridade = tf.keras.layers.dot([camada_alvo, camada_contexto], axes=0, normalize=True)\n",
    "    similaridade = tf.keras.layers.Reshape((1,))(similaridade)\n",
    "\n",
    "    p_interno = tf.keras.layers.dot([camada_alvo, camada_contexto], axes=1)\n",
    "    p_interno = tf.keras.layers.Reshape((1,))(p_interno)\n",
    "    # add the sigmoid output layer\n",
    "    saida = tf.keras.layers.Dense(1, activation='sigmoid')(p_interno)\n",
    "\n",
    "    modelo = tf.keras.models.Model(inputs=[entrada_alvo, entrada_contexto], outputs=saida)\n",
    "    modelo.compile(loss='binary_crossentropy', optimizer='adam', metrics=\"acc\")\n",
    "\n",
    "    return modelo\n",
    "\n",
    "modelo = criar_modelo(len(dicionario), EMBEDDINGS)\n",
    "modelo.summary()"
   ]
  },
  {
   "cell_type": "code",
   "execution_count": 90,
   "metadata": {},
   "outputs": [
    {
     "name": "stdout",
     "output_type": "stream",
     "text": [
      "Epoch 1/2\n",
      " 124288/1016376 [==>...........................] - ETA: 53s - loss: 0.3549"
     ]
    },
    {
     "ename": "KeyboardInterrupt",
     "evalue": "",
     "output_type": "error",
     "traceback": [
      "\u001b[0;31m---------------------------------------------------------------------------\u001b[0m",
      "\u001b[0;31mKeyboardInterrupt\u001b[0m                         Traceback (most recent call last)",
      "\u001b[0;32m<ipython-input-90-7c99b81e43f1>\u001b[0m in \u001b[0;36m<module>\u001b[0;34m\u001b[0m\n\u001b[0;32m----> 1\u001b[0;31m \u001b[0mmodelo\u001b[0m\u001b[0;34m.\u001b[0m\u001b[0mfit\u001b[0m\u001b[0;34m(\u001b[0m\u001b[0;34m[\u001b[0m\u001b[0mcontexto\u001b[0m\u001b[0;34m,\u001b[0m \u001b[0malvo\u001b[0m\u001b[0;34m]\u001b[0m\u001b[0;34m,\u001b[0m \u001b[0metiquetas\u001b[0m\u001b[0;34m,\u001b[0m \u001b[0mepochs\u001b[0m\u001b[0;34m=\u001b[0m\u001b[0;36m2\u001b[0m\u001b[0;34m)\u001b[0m\u001b[0;34m\u001b[0m\u001b[0;34m\u001b[0m\u001b[0m\n\u001b[0m\u001b[1;32m      2\u001b[0m \u001b[0;31m# epocas = 10\u001b[0m\u001b[0;34m\u001b[0m\u001b[0;34m\u001b[0m\u001b[0;34m\u001b[0m\u001b[0m\n\u001b[1;32m      3\u001b[0m \u001b[0;31m# for epoca in range(epocas):\u001b[0m\u001b[0;34m\u001b[0m\u001b[0;34m\u001b[0m\u001b[0;34m\u001b[0m\u001b[0m\n\u001b[1;32m      4\u001b[0m \u001b[0;31m#     idx = np.random.randint(0, len(contexto))\u001b[0m\u001b[0;34m\u001b[0m\u001b[0;34m\u001b[0m\u001b[0;34m\u001b[0m\u001b[0m\n\u001b[1;32m      5\u001b[0m \u001b[0;31m#     ctx = [contexto[idx]]\u001b[0m\u001b[0;34m\u001b[0m\u001b[0;34m\u001b[0m\u001b[0;34m\u001b[0m\u001b[0m\n",
      "\u001b[0;32m/usr/lib/python3.7/site-packages/tensorflow/python/keras/engine/training.py\u001b[0m in \u001b[0;36mfit\u001b[0;34m(self, x, y, batch_size, epochs, verbose, callbacks, validation_split, validation_data, shuffle, class_weight, sample_weight, initial_epoch, steps_per_epoch, validation_steps, max_queue_size, workers, use_multiprocessing, **kwargs)\u001b[0m\n\u001b[1;32m    878\u001b[0m           \u001b[0minitial_epoch\u001b[0m\u001b[0;34m=\u001b[0m\u001b[0minitial_epoch\u001b[0m\u001b[0;34m,\u001b[0m\u001b[0;34m\u001b[0m\u001b[0;34m\u001b[0m\u001b[0m\n\u001b[1;32m    879\u001b[0m           \u001b[0msteps_per_epoch\u001b[0m\u001b[0;34m=\u001b[0m\u001b[0msteps_per_epoch\u001b[0m\u001b[0;34m,\u001b[0m\u001b[0;34m\u001b[0m\u001b[0;34m\u001b[0m\u001b[0m\n\u001b[0;32m--> 880\u001b[0;31m           validation_steps=validation_steps)\n\u001b[0m\u001b[1;32m    881\u001b[0m \u001b[0;34m\u001b[0m\u001b[0m\n\u001b[1;32m    882\u001b[0m   def evaluate(self,\n",
      "\u001b[0;32m/usr/lib/python3.7/site-packages/tensorflow/python/keras/engine/training_arrays.py\u001b[0m in \u001b[0;36mmodel_iteration\u001b[0;34m(model, inputs, targets, sample_weights, batch_size, epochs, verbose, callbacks, val_inputs, val_targets, val_sample_weights, shuffle, initial_epoch, steps_per_epoch, validation_steps, mode, validation_in_fit, **kwargs)\u001b[0m\n\u001b[1;32m    327\u001b[0m \u001b[0;34m\u001b[0m\u001b[0m\n\u001b[1;32m    328\u001b[0m         \u001b[0;31m# Get outputs.\u001b[0m\u001b[0;34m\u001b[0m\u001b[0;34m\u001b[0m\u001b[0;34m\u001b[0m\u001b[0m\n\u001b[0;32m--> 329\u001b[0;31m         \u001b[0mbatch_outs\u001b[0m \u001b[0;34m=\u001b[0m \u001b[0mf\u001b[0m\u001b[0;34m(\u001b[0m\u001b[0mins_batch\u001b[0m\u001b[0;34m)\u001b[0m\u001b[0;34m\u001b[0m\u001b[0;34m\u001b[0m\u001b[0m\n\u001b[0m\u001b[1;32m    330\u001b[0m         \u001b[0;32mif\u001b[0m \u001b[0;32mnot\u001b[0m \u001b[0misinstance\u001b[0m\u001b[0;34m(\u001b[0m\u001b[0mbatch_outs\u001b[0m\u001b[0;34m,\u001b[0m \u001b[0mlist\u001b[0m\u001b[0;34m)\u001b[0m\u001b[0;34m:\u001b[0m\u001b[0;34m\u001b[0m\u001b[0;34m\u001b[0m\u001b[0m\n\u001b[1;32m    331\u001b[0m           \u001b[0mbatch_outs\u001b[0m \u001b[0;34m=\u001b[0m \u001b[0;34m[\u001b[0m\u001b[0mbatch_outs\u001b[0m\u001b[0;34m]\u001b[0m\u001b[0;34m\u001b[0m\u001b[0;34m\u001b[0m\u001b[0m\n",
      "\u001b[0;32m/usr/lib/python3.7/site-packages/tensorflow/python/keras/backend.py\u001b[0m in \u001b[0;36m__call__\u001b[0;34m(self, inputs)\u001b[0m\n\u001b[1;32m   3074\u001b[0m \u001b[0;34m\u001b[0m\u001b[0m\n\u001b[1;32m   3075\u001b[0m     fetched = self._callable_fn(*array_vals,\n\u001b[0;32m-> 3076\u001b[0;31m                                 run_metadata=self.run_metadata)\n\u001b[0m\u001b[1;32m   3077\u001b[0m     \u001b[0mself\u001b[0m\u001b[0;34m.\u001b[0m\u001b[0m_call_fetch_callbacks\u001b[0m\u001b[0;34m(\u001b[0m\u001b[0mfetched\u001b[0m\u001b[0;34m[\u001b[0m\u001b[0;34m-\u001b[0m\u001b[0mlen\u001b[0m\u001b[0;34m(\u001b[0m\u001b[0mself\u001b[0m\u001b[0;34m.\u001b[0m\u001b[0m_fetches\u001b[0m\u001b[0;34m)\u001b[0m\u001b[0;34m:\u001b[0m\u001b[0;34m]\u001b[0m\u001b[0;34m)\u001b[0m\u001b[0;34m\u001b[0m\u001b[0;34m\u001b[0m\u001b[0m\n\u001b[1;32m   3078\u001b[0m     return nest.pack_sequence_as(self._outputs_structure,\n",
      "\u001b[0;32m/usr/lib/python3.7/site-packages/tensorflow/python/client/session.py\u001b[0m in \u001b[0;36m__call__\u001b[0;34m(self, *args, **kwargs)\u001b[0m\n\u001b[1;32m   1437\u001b[0m           ret = tf_session.TF_SessionRunCallable(\n\u001b[1;32m   1438\u001b[0m               \u001b[0mself\u001b[0m\u001b[0;34m.\u001b[0m\u001b[0m_session\u001b[0m\u001b[0;34m.\u001b[0m\u001b[0m_session\u001b[0m\u001b[0;34m,\u001b[0m \u001b[0mself\u001b[0m\u001b[0;34m.\u001b[0m\u001b[0m_handle\u001b[0m\u001b[0;34m,\u001b[0m \u001b[0margs\u001b[0m\u001b[0;34m,\u001b[0m \u001b[0mstatus\u001b[0m\u001b[0;34m,\u001b[0m\u001b[0;34m\u001b[0m\u001b[0;34m\u001b[0m\u001b[0m\n\u001b[0;32m-> 1439\u001b[0;31m               run_metadata_ptr)\n\u001b[0m\u001b[1;32m   1440\u001b[0m         \u001b[0;32mif\u001b[0m \u001b[0mrun_metadata\u001b[0m\u001b[0;34m:\u001b[0m\u001b[0;34m\u001b[0m\u001b[0;34m\u001b[0m\u001b[0m\n\u001b[1;32m   1441\u001b[0m           \u001b[0mproto_data\u001b[0m \u001b[0;34m=\u001b[0m \u001b[0mtf_session\u001b[0m\u001b[0;34m.\u001b[0m\u001b[0mTF_GetBuffer\u001b[0m\u001b[0;34m(\u001b[0m\u001b[0mrun_metadata_ptr\u001b[0m\u001b[0;34m)\u001b[0m\u001b[0;34m\u001b[0m\u001b[0;34m\u001b[0m\u001b[0m\n",
      "\u001b[0;31mKeyboardInterrupt\u001b[0m: "
     ]
    }
   ],
   "source": [
    "modelo.fit([contexto, alvo], etiquetas, epochs=2)\n",
    "# epocas = 10\n",
    "# for epoca in range(epocas):\n",
    "#     idx = np.random.randint(0, len(contexto))\n",
    "#     ctx = [contexto[idx]]\n",
    "#     alv = [alvo[idx]]\n",
    "#     etq = [etiquetas[idx]]\n",
    "#     loss = modelo.train_on_batch([ctx, alv], etq)"
   ]
  },
  {
   "cell_type": "code",
   "execution_count": null,
   "metadata": {},
   "outputs": [],
   "source": []
  }
 ],
 "metadata": {
  "kernelspec": {
   "display_name": "Python 3",
   "language": "python",
   "name": "python3"
  },
  "language_info": {
   "codemirror_mode": {
    "name": "ipython",
    "version": 3
   },
   "file_extension": ".py",
   "mimetype": "text/x-python",
   "name": "python",
   "nbconvert_exporter": "python",
   "pygments_lexer": "ipython3",
   "version": "3.7.2"
  }
 },
 "nbformat": 4,
 "nbformat_minor": 2
}
